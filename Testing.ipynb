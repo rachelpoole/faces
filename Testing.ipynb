{
 "cells": [
  {
   "cell_type": "code",
   "execution_count": 3,
   "metadata": {},
   "outputs": [
    {
     "data": {
      "text/plain": [
       "[{'faceId': '7dd4b40d-6718-4a8f-b2ed-5cb857696c4a',\n",
       "  'faceRectangle': {'top': 144, 'left': 79, 'width': 226, 'height': 226}}]"
      ]
     },
     "execution_count": 3,
     "metadata": {},
     "output_type": "execute_result"
    }
   ],
   "source": [
    "# Process\n",
    "\n",
    "# Make API call\n",
    "import cognitive_face as CF\n",
    "import requests\n",
    "import pandas as pd\n",
    "\n",
    "KEY = '9f4243734f6e4d89a7e24b3aa39c0a2f'  # My subscription key\n",
    "CF.Key.set(KEY)\n",
    "\n",
    "BASE_URL = 'https://westcentralus.api.cognitive.microsoft.com/face/v1.0'  # My regional Base URL\n",
    "CF.BaseUrl.set(BASE_URL)\n",
    "\n",
    "# Create two face IDs for the two photos using Face - Detect\n",
    "image1 = './img/known/rachel-cropped-dl.jpg'\n",
    "image2 = './img/rachel-selfie-small.jpg'\n",
    "\n",
    "face1 = CF.face.detect(image1)\n",
    "face2 = CF.face.detect(image2)\n",
    "# print(face1, face2) \n",
    "\n",
    "face1\n",
    "\n",
    "# Then use Face-Verify\n",
    "\n",
    "\n",
    "\n",
    "\n",
    "# You can use this example JPG or replace the URL below with your own URL to a JPEG image.\n"
   ]
  },
  {
   "cell_type": "code",
   "execution_count": 13,
   "metadata": {},
   "outputs": [
    {
     "data": {
      "text/plain": [
       "'7dd4b40d-6718-4a8f-b2ed-5cb857696c4a'"
      ]
     },
     "execution_count": 13,
     "metadata": {},
     "output_type": "execute_result"
    }
   ],
   "source": [
    "face1[0]['faceId']"
   ]
  },
  {
   "cell_type": "code",
   "execution_count": 10,
   "metadata": {},
   "outputs": [
    {
     "data": {
      "text/plain": [
       "'7dd4b40d-6718-4a8f-b2ed-5cb857696c4a'"
      ]
     },
     "execution_count": 10,
     "metadata": {},
     "output_type": "execute_result"
    }
   ],
   "source": [
    "my_dict['faceId']"
   ]
  }
 ],
 "metadata": {
  "kernelspec": {
   "display_name": "Python 3",
   "language": "python",
   "name": "python3"
  },
  "language_info": {
   "codemirror_mode": {
    "name": "ipython",
    "version": 3
   },
   "file_extension": ".py",
   "mimetype": "text/x-python",
   "name": "python",
   "nbconvert_exporter": "python",
   "pygments_lexer": "ipython3",
   "version": "3.6.4"
  }
 },
 "nbformat": 4,
 "nbformat_minor": 2
}
